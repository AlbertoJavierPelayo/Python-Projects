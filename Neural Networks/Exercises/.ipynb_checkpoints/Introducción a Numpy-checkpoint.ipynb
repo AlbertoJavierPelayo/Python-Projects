{
 "cells": [
  {
   "cell_type": "markdown",
   "metadata": {},
   "source": [
    "# Introducción a manejo de vectores y matrices con Numpy"
   ]
  },
  {
   "cell_type": "markdown",
   "metadata": {},
   "source": [
    "En este tutorial aprenderemos a realizar operaciones básicas de algebra lineal usando la libreria Numpy de Python"
   ]
  },
  {
   "cell_type": "markdown",
   "metadata": {},
   "source": [
    "## 1.- Importar libreria Numpy"
   ]
  },
  {
   "cell_type": "markdown",
   "metadata": {},
   "source": [
    "Numpy es una librería desarrollada para Python que permite crear arreglos y hacer operaciones algebraícas de manera muy sencilla. "
   ]
  },
  {
   "cell_type": "code",
   "execution_count": 30,
   "metadata": {},
   "outputs": [
    {
     "name": "stdout",
     "output_type": "stream",
     "text": [
      "Hola mundo\n"
     ]
    }
   ],
   "source": [
    "# Instalar en terminal -->  pip3 install numpy \n",
    "import numpy as np\n",
    "\n",
    "print(\"Hola mundo\")"
   ]
  },
  {
   "cell_type": "markdown",
   "metadata": {},
   "source": [
    "## 2.- Creación de arreglos con Numpy"
   ]
  },
  {
   "cell_type": "markdown",
   "metadata": {},
   "source": [
    "Se pueden crear arreglos en numpy haciendo uso de la clase array() de numpy"
   ]
  },
  {
   "cell_type": "code",
   "execution_count": 31,
   "metadata": {},
   "outputs": [
    {
     "data": {
      "text/plain": [
       "array([[ 5,  4,  0],\n",
       "       [ 1,  3, -2],\n",
       "       [ 4,  4, 12]])"
      ]
     },
     "execution_count": 31,
     "metadata": {},
     "output_type": "execute_result"
    }
   ],
   "source": [
    "np.array([2,-5,1])\n",
    "m = np.array([[5,4,0],[ 1,3,-2],[4,4,12]])\n",
    "m"
   ]
  },
  {
   "cell_type": "markdown",
   "metadata": {},
   "source": [
    "La clase array posee varios métodos que permiten hacer operaciones sencillas sobre los arreglos, así como consultar o sustituir sus elementos."
   ]
  },
  {
   "cell_type": "code",
   "execution_count": 32,
   "metadata": {},
   "outputs": [
    {
     "name": "stdout",
     "output_type": "stream",
     "text": [
      "4\n",
      "-------\n",
      "4\n",
      "-------\n",
      "[[ 5  4  0]\n",
      " [ 1  3 -2]\n",
      " [ 4  4 12]]\n"
     ]
    }
   ],
   "source": [
    "# Consultar elementos \n",
    "print(m[0,1])\n",
    "print(\"-------\")\n",
    "\n",
    "# Reasignar elementos de matríz\n",
    "matriz[0,1] = 14\n",
    "print(m[0,1])\n",
    "print(\"-------\")\n",
    "print(m)"
   ]
  },
  {
   "cell_type": "markdown",
   "metadata": {},
   "source": [
    "Es posible hacer consultas sobre multiples elementos del arreglo haciendo uso del operador : sobre los índices"
   ]
  },
  {
   "cell_type": "code",
   "execution_count": 34,
   "metadata": {},
   "outputs": [
    {
     "name": "stdout",
     "output_type": "stream",
     "text": [
      "[5 4 0]\n",
      "[5 1 4]\n",
      "-------\n",
      "Matríz de (3, 3)\n",
      "Vector de (3,)\n"
     ]
    }
   ],
   "source": [
    "# Consultar filas y columnas\n",
    "v  = m[0,:]\n",
    "print(m[0,:])\n",
    "print(m[:,0])\n",
    "print(\"-------\")\n",
    "\n",
    "# Propiedades de los objetos\n",
    "print(\"Matríz de \" + str(m.shape))\n",
    "print(\"Vector de \" + str(v.shape))"
   ]
  },
  {
   "cell_type": "markdown",
   "metadata": {},
   "source": [
    "Algunas de las operaciones sencillas de la clase array() de numpy son los siguientes"
   ]
  },
  {
   "cell_type": "code",
   "execution_count": 38,
   "metadata": {},
   "outputs": [
    {
     "name": "stdout",
     "output_type": "stream",
     "text": [
      "[[ 5  4]\n",
      " [-2  2]\n",
      " [ 0  1]]\n",
      "Matríz de (3, 2)\n",
      "-------\n",
      "[[ 25  16   0]\n",
      " [  1   9   4]\n",
      " [ 16  16 144]]\n",
      "Matríz de (3, 3)\n",
      "-------\n",
      "[[17 28]\n",
      " [-1  8]\n",
      " [12 36]]\n",
      "Matríz de (3, 2)\n",
      "-------\n"
     ]
    }
   ],
   "source": [
    "m2 = np.array([[5,4],[ -2,2],[0,1]])\n",
    "print(m2)\n",
    "print(\"Matríz de \" + str(m2.shape))\n",
    "print(\"-------\")\n",
    "\n",
    "# Producto Punto (Elemento x Elemento)\n",
    "m3 = m*m\n",
    "print(m3)\n",
    "print(\"Matríz de \" + str(m3.shape))\n",
    "print(\"-------\")\n",
    "\n",
    "# Producto  (Matricial)\n",
    "m4 = np.dot(m,m2)\n",
    "print(m4)\n",
    "print(\"Matríz de \" + str(m4.shape))\n",
    "print(\"-------\")\n"
   ]
  },
  {
   "cell_type": "markdown",
   "metadata": {},
   "source": [
    "## 3.- Inicialización avanzada \n",
    "Numpy permite crear arreglos de forma predeterminada, incluyendo arreglos de ceros, aleatorios, constantes, o por series"
   ]
  },
  {
   "cell_type": "code",
   "execution_count": 57,
   "metadata": {},
   "outputs": [
    {
     "name": "stdout",
     "output_type": "stream",
     "text": [
      "[[0. 0. 0. 0. 0. 0. 0. 0. 0. 0.]\n",
      " [0. 0. 0. 0. 0. 0. 0. 0. 0. 0.]\n",
      " [0. 0. 0. 0. 0. 0. 0. 0. 0. 0.]\n",
      " [0. 0. 0. 0. 0. 0. 0. 0. 0. 0.]\n",
      " [0. 0. 0. 0. 0. 0. 0. 0. 0. 0.]\n",
      " [0. 0. 0. 0. 0. 0. 0. 0. 0. 0.]\n",
      " [0. 0. 0. 0. 0. 0. 0. 0. 0. 0.]\n",
      " [0. 0. 0. 0. 0. 0. 0. 0. 0. 0.]\n",
      " [0. 0. 0. 0. 0. 0. 0. 0. 0. 0.]\n",
      " [0. 0. 0. 0. 0. 0. 0. 0. 0. 0.]]\n",
      "Matríz de (10, 10)\n",
      "-------\n"
     ]
    }
   ],
   "source": [
    "# Arreglo de ceros\n",
    "a1 = np.zeros([10,10])\n",
    "print(a1)\n",
    "print(\"Matríz de \" + str(a1.shape))\n",
    "print(\"-------\")"
   ]
  },
  {
   "cell_type": "code",
   "execution_count": 51,
   "metadata": {},
   "outputs": [
    {
     "name": "stdout",
     "output_type": "stream",
     "text": [
      "[[[1. 1.]\n",
      "  [1. 1.]\n",
      "  [1. 1.]]\n",
      "\n",
      " [[1. 1.]\n",
      "  [1. 1.]\n",
      "  [1. 1.]]\n",
      "\n",
      " [[1. 1.]\n",
      "  [1. 1.]\n",
      "  [1. 1.]]\n",
      "\n",
      " [[1. 1.]\n",
      "  [1. 1.]\n",
      "  [1. 1.]]]\n",
      "Matríz de (4, 3, 2)\n",
      "-------\n"
     ]
    }
   ],
   "source": [
    "# Arreglo de unos\n",
    "a2 = np.ones([4,3,2])\n",
    "print(a2)\n",
    "print(\"Matríz de \" + str(a2.shape))\n",
    "print(\"-------\")"
   ]
  },
  {
   "cell_type": "code",
   "execution_count": 52,
   "metadata": {},
   "outputs": [
    {
     "name": "stdout",
     "output_type": "stream",
     "text": [
      "[[0.20152492 0.35538367]\n",
      " [0.012399   0.27331901]\n",
      " [0.0332014  0.34617523]]\n",
      "Matríz de (3, 2)\n",
      "-------\n"
     ]
    }
   ],
   "source": [
    "# Arreglo de aleatorios (0,1)\n",
    "a3 = np.random.rand(3,2)\n",
    "print(a3)\n",
    "print(\"Matríz de \" + str(a3.shape))\n",
    "print(\"-------\")"
   ]
  },
  {
   "cell_type": "code",
   "execution_count": 53,
   "metadata": {},
   "outputs": [
    {
     "name": "stdout",
     "output_type": "stream",
     "text": [
      "[[-0.50032708  0.59601713]\n",
      " [ 0.14391581 -0.67505682]\n",
      " [-0.81472756 -0.31199938]]\n",
      "Matríz de (3, 2)\n",
      "-------\n"
     ]
    }
   ],
   "source": [
    "# Para limitar el arreglo de aleatorios (-1,1)\n",
    "a4 = 2*np.random.rand(3,2)-1\n",
    "print(a4)\n",
    "print(\"Matríz de \" + str(a4.shape))\n",
    "print(\"-------\")"
   ]
  },
  {
   "cell_type": "code",
   "execution_count": 56,
   "metadata": {},
   "outputs": [
    {
     "name": "stdout",
     "output_type": "stream",
     "text": [
      "[0.         0.05050505 0.1010101  0.15151515 0.2020202  0.25252525\n",
      " 0.3030303  0.35353535 0.4040404  0.45454545 0.50505051 0.55555556\n",
      " 0.60606061 0.65656566 0.70707071 0.75757576 0.80808081 0.85858586\n",
      " 0.90909091 0.95959596 1.01010101 1.06060606 1.11111111 1.16161616\n",
      " 1.21212121 1.26262626 1.31313131 1.36363636 1.41414141 1.46464646\n",
      " 1.51515152 1.56565657 1.61616162 1.66666667 1.71717172 1.76767677\n",
      " 1.81818182 1.86868687 1.91919192 1.96969697 2.02020202 2.07070707\n",
      " 2.12121212 2.17171717 2.22222222 2.27272727 2.32323232 2.37373737\n",
      " 2.42424242 2.47474747 2.52525253 2.57575758 2.62626263 2.67676768\n",
      " 2.72727273 2.77777778 2.82828283 2.87878788 2.92929293 2.97979798\n",
      " 3.03030303 3.08080808 3.13131313 3.18181818 3.23232323 3.28282828\n",
      " 3.33333333 3.38383838 3.43434343 3.48484848 3.53535354 3.58585859\n",
      " 3.63636364 3.68686869 3.73737374 3.78787879 3.83838384 3.88888889\n",
      " 3.93939394 3.98989899 4.04040404 4.09090909 4.14141414 4.19191919\n",
      " 4.24242424 4.29292929 4.34343434 4.39393939 4.44444444 4.49494949\n",
      " 4.54545455 4.5959596  4.64646465 4.6969697  4.74747475 4.7979798\n",
      " 4.84848485 4.8989899  4.94949495 5.        ]\n",
      "Incremento de (100,)\n",
      "-------\n"
     ]
    }
   ],
   "source": [
    "# Espacio lineal\n",
    "s1 = np.linspace(0,5,100)\n",
    "print(s1)\n",
    "print(\"Incremento de \" + str(s1.shape))\n",
    "print(\"-------\")"
   ]
  },
  {
   "cell_type": "markdown",
   "metadata": {},
   "source": [
    "## 4.- Operaciones con arreglos\n",
    "Numpy permite hacer operaciones básicas con arreglos tales como suma, resta, producto punto y producto patricial. "
   ]
  },
  {
   "cell_type": "code",
   "execution_count": 60,
   "metadata": {},
   "outputs": [
    {
     "name": "stdout",
     "output_type": "stream",
     "text": [
      "[[0. 0. 0. 0. 0. 0. 0. 0. 0. 0.]\n",
      " [0. 0. 0. 0. 0. 0. 0. 0. 0. 0.]\n",
      " [0. 0. 0. 0. 0. 0. 0. 0. 0. 0.]\n",
      " [0. 0. 0. 0. 0. 0. 0. 0. 0. 0.]\n",
      " [0. 0. 0. 0. 0. 0. 0. 0. 0. 0.]\n",
      " [0. 0. 0. 0. 0. 0. 0. 0. 0. 0.]\n",
      " [0. 0. 0. 0. 0. 0. 0. 0. 0. 0.]\n",
      " [0. 0. 0. 0. 0. 0. 0. 0. 0. 0.]\n",
      " [0. 0. 0. 0. 0. 0. 0. 0. 0. 0.]\n",
      " [0. 0. 0. 0. 0. 0. 0. 0. 0. 0.]]\n",
      "Matríz de (10, 10)\n",
      "-------\n"
     ]
    }
   ],
   "source": [
    "# Redimensionar arreglos\n",
    "print(a1)\n",
    "print(\"Matríz de \" + str(a1.shape))\n",
    "print(\"-------\")"
   ]
  },
  {
   "cell_type": "code",
   "execution_count": 61,
   "metadata": {},
   "outputs": [
    {
     "name": "stdout",
     "output_type": "stream",
     "text": [
      "[[0. 0. 0. 0.]\n",
      " [0. 0. 0. 0.]\n",
      " [0. 0. 0. 0.]\n",
      " [0. 0. 0. 0.]\n",
      " [0. 0. 0. 0.]\n",
      " [0. 0. 0. 0.]\n",
      " [0. 0. 0. 0.]\n",
      " [0. 0. 0. 0.]\n",
      " [0. 0. 0. 0.]\n",
      " [0. 0. 0. 0.]\n",
      " [0. 0. 0. 0.]\n",
      " [0. 0. 0. 0.]\n",
      " [0. 0. 0. 0.]\n",
      " [0. 0. 0. 0.]\n",
      " [0. 0. 0. 0.]\n",
      " [0. 0. 0. 0.]\n",
      " [0. 0. 0. 0.]\n",
      " [0. 0. 0. 0.]\n",
      " [0. 0. 0. 0.]\n",
      " [0. 0. 0. 0.]\n",
      " [0. 0. 0. 0.]\n",
      " [0. 0. 0. 0.]\n",
      " [0. 0. 0. 0.]\n",
      " [0. 0. 0. 0.]\n",
      " [0. 0. 0. 0.]]\n",
      "Matríz de (25, 4)\n",
      "-------\n"
     ]
    }
   ],
   "source": [
    "# Cambiar dimensiones\n",
    "a5 = np.reshape(a1,(25,4))\n",
    "print(a5)\n",
    "print(\"Matríz de \" + str(a5.shape))\n",
    "print(\"-------\")"
   ]
  },
  {
   "cell_type": "code",
   "execution_count": 63,
   "metadata": {},
   "outputs": [
    {
     "name": "stdout",
     "output_type": "stream",
     "text": [
      "[[ 5  4  0]\n",
      " [ 1  3 -2]\n",
      " [ 4  4 12]]\n",
      "-------\n",
      "[[ 5  1  4]\n",
      " [ 4  3  4]\n",
      " [ 0 -2 12]]\n"
     ]
    }
   ],
   "source": [
    "# Transponer elementos\n",
    "print(m)\n",
    "print(\"-------\")\n",
    "mlt =  np.transpose(m)\n",
    "print(mlt)\n"
   ]
  },
  {
   "cell_type": "code",
   "execution_count": null,
   "metadata": {},
   "outputs": [],
   "source": []
  },
  {
   "cell_type": "code",
   "execution_count": null,
   "metadata": {},
   "outputs": [],
   "source": []
  }
 ],
 "metadata": {
  "kernelspec": {
   "display_name": "Python 3 (ipykernel)",
   "language": "python",
   "name": "python3"
  },
  "language_info": {
   "codemirror_mode": {
    "name": "ipython",
    "version": 3
   },
   "file_extension": ".py",
   "mimetype": "text/x-python",
   "name": "python",
   "nbconvert_exporter": "python",
   "pygments_lexer": "ipython3",
   "version": "3.8.10"
  }
 },
 "nbformat": 4,
 "nbformat_minor": 4
}
