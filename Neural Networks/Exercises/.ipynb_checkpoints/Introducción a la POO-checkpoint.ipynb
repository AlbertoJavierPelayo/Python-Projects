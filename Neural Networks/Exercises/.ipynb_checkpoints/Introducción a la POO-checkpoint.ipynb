{
 "cells": [
  {
   "cell_type": "markdown",
   "id": "0770b45f",
   "metadata": {},
   "source": [
    "# Introducción a la POO en Python"
   ]
  },
  {
   "cell_type": "code",
   "execution_count": 1,
   "id": "d6e70f9c",
   "metadata": {},
   "outputs": [],
   "source": [
    "import numpy as np\n",
    "import matplotlib.pyplot as plt"
   ]
  },
  {
   "cell_type": "markdown",
   "id": "1b39b743",
   "metadata": {},
   "source": [
    "## 1. Definición de clases"
   ]
  },
  {
   "cell_type": "markdown",
   "id": "a81bf573",
   "metadata": {},
   "source": [
    "### a) Métodos estáticos"
   ]
  },
  {
   "cell_type": "markdown",
   "id": "f99784f1",
   "metadata": {},
   "source": [
    "Como primer paso, definiremos la estructura básica de una clase en python con métodos estáticos"
   ]
  },
  {
   "cell_type": "code",
   "execution_count": 2,
   "id": "3670576a",
   "metadata": {},
   "outputs": [
    {
     "name": "stdout",
     "output_type": "stream",
     "text": [
      "9\n"
     ]
    }
   ],
   "source": [
    "class calculadora:\n",
    "    # Constructor, método instancia\n",
    "    def __init__(self):\n",
    "        \n",
    "        pass\n",
    "    \n",
    "    # Método estático\n",
    "    def suma(a,b):\n",
    "        return a+b\n",
    "    def resta(a,b):\n",
    "        return a-b\n",
    "    def mult(a,b):\n",
    "        return a*b\n",
    "    \n",
    "# Llamar método estático\n",
    "c = calculadora.suma(4,5)\n",
    "print(c)"
   ]
  },
  {
   "cell_type": "code",
   "execution_count": 3,
   "id": "b471bd56",
   "metadata": {},
   "outputs": [
    {
     "name": "stdout",
     "output_type": "stream",
     "text": [
      "9\n"
     ]
    }
   ],
   "source": [
    "class calculadora:\n",
    "    # Constructor, método instancia\n",
    "    def __init__(self):\n",
    "        \n",
    "        pass\n",
    "    \n",
    "    # Método estático\n",
    "    def suma(self,a,b):\n",
    "        return a+b\n",
    "    def resta(a,b):\n",
    "        return a-b\n",
    "    def mult(a,b):\n",
    "        return a*b\n",
    "    \n",
    "# Llamar método instancia\n",
    "calc = calculadora()\n",
    "c = calc.suma(4,5)\n",
    "print(c)"
   ]
  },
  {
   "cell_type": "markdown",
   "id": "35bb6634",
   "metadata": {},
   "source": [
    "## b) Métodos de instancia"
   ]
  },
  {
   "cell_type": "markdown",
   "id": "b9c77abd",
   "metadata": {},
   "source": [
    "Los métodos de instancia requieren de la creación de un constructor en la clase, que puede requerir de especificar atributos"
   ]
  },
  {
   "cell_type": "code",
   "execution_count": 4,
   "id": "11bfa3df",
   "metadata": {},
   "outputs": [],
   "source": [
    "class recta:\n",
    "    # Constructor\n",
    "    def __init__(self,p1,p2):\n",
    "        \n",
    "        #Definir atributos\n",
    "        self.w = p1\n",
    "        self.b = p2\n",
    "        \n",
    "    # Métodos de instancia\n",
    "    def calc(self,x):\n",
    "        y = np.dot(self.w,x) + self.b\n",
    "        return y"
   ]
  },
  {
   "cell_type": "code",
   "execution_count": 5,
   "id": "734cb8cf",
   "metadata": {},
   "outputs": [
    {
     "name": "stdout",
     "output_type": "stream",
     "text": [
      "113.0\n"
     ]
    }
   ],
   "source": [
    "# Crear instancia\n",
    "valores = recta(5.0,3.0)\n",
    "\n",
    "# Llamar método de instancia\n",
    "c = valores.calc(22.0)\n",
    "print(c)"
   ]
  },
  {
   "cell_type": "markdown",
   "id": "557c49d3",
   "metadata": {},
   "source": [
    "## 3.- Herencia en Python"
   ]
  },
  {
   "cell_type": "markdown",
   "id": "2e9e038f",
   "metadata": {},
   "source": [
    "Python permite crear clases con herencia sencilla o múltiple, llamando al constructor de cada clase madre por separado. "
   ]
  },
  {
   "cell_type": "code",
   "execution_count": 6,
   "id": "87592ab7",
   "metadata": {},
   "outputs": [],
   "source": [
    "class cuadratic(recta):\n",
    "    # Constructor\n",
    "    def __init__(self,a,b,c):\n",
    "        \n",
    "        # Llamar a constructor de la clase padre\n",
    "        recta.__init__(self,a,b)\n",
    "        \n",
    "        # Definir atributos\n",
    "        self.c = c\n",
    "        \n",
    "    # Agregar método adicional\n",
    "    def roots(self):\n",
    "        \n",
    "        # Encontrar raíces\n",
    "        if (np.power(self.b,2)-4*self.w*self.c)>0:\n",
    "            c1 = (-self.b + np.sqrt(np.power(self.b,2)-4*self.w*self.c))/2*self.w\n",
    "            c2 = (-self.b - np.sqrt(np.power(self.b,2)-4*self.w*self.c))/2*self.w\n",
    "        else:\n",
    "            print(\"Raíces imaginarias\")\n",
    "            c1 = 0\n",
    "            c2 = 0\n",
    "        return c1,c2\n",
    "    \n",
    "    # Sobrecarga de método\n",
    "    def calc(self,x):\n",
    "        \n",
    "        # Calcular cuadrática\n",
    "        y = self.w*np.power(x,2) + self.b*x +self.c\n",
    "        return y"
   ]
  },
  {
   "cell_type": "code",
   "execution_count": 7,
   "id": "6c8681fe",
   "metadata": {},
   "outputs": [
    {
     "name": "stdout",
     "output_type": "stream",
     "text": [
      "['__class__', '__delattr__', '__dict__', '__dir__', '__doc__', '__eq__', '__format__', '__ge__', '__getattribute__', '__gt__', '__hash__', '__init__', '__init_subclass__', '__le__', '__lt__', '__module__', '__ne__', '__new__', '__reduce__', '__reduce_ex__', '__repr__', '__setattr__', '__sizeof__', '__str__', '__subclasshook__', '__weakref__', 'b', 'c', 'calc', 'roots', 'w']\n",
      "Raíces: -1.0 & -3.0\n",
      "Y: 288.0\n"
     ]
    }
   ],
   "source": [
    "# Crear instancia de clase hija\n",
    "mmm = cuadratic(1.0,4.0,3.0)\n",
    "\n",
    "# Ver métodos clase hija\n",
    "print(dir(mmm))\n",
    "\n",
    "# Llamar métodos de clase hija\n",
    "r1,r2 = mmm.roots()\n",
    "print(\"Raíces: \" + str(r1) + \" & \" + str(r2))\n",
    "\n",
    "# Llamar método calc\n",
    "y = mmm.calc(15)\n",
    "print(\"Y: \" + str(y))"
   ]
  },
  {
   "cell_type": "code",
   "execution_count": null,
   "id": "0c4ef15e",
   "metadata": {},
   "outputs": [],
   "source": []
  }
 ],
 "metadata": {
  "kernelspec": {
   "display_name": "Python 3 (ipykernel)",
   "language": "python",
   "name": "python3"
  },
  "language_info": {
   "codemirror_mode": {
    "name": "ipython",
    "version": 3
   },
   "file_extension": ".py",
   "mimetype": "text/x-python",
   "name": "python",
   "nbconvert_exporter": "python",
   "pygments_lexer": "ipython3",
   "version": "3.8.10"
  }
 },
 "nbformat": 4,
 "nbformat_minor": 5
}
