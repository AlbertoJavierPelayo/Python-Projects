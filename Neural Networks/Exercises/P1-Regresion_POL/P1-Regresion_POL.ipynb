{
 "cells": [
  {
   "cell_type": "markdown",
   "metadata": {},
   "source": [
    "# Unidad 2: Modelos de regresión"
   ]
  },
  {
   "cell_type": "markdown",
   "metadata": {},
   "source": [
    "Importar librerías básicas"
   ]
  },
  {
   "cell_type": "code",
   "execution_count": 48,
   "metadata": {},
   "outputs": [],
   "source": [
    "import numpy as np\n",
    "import matplotlib.pyplot as plt\n",
    "import scipy.io  # pip install scipy"
   ]
  },
  {
   "cell_type": "markdown",
   "metadata": {},
   "source": [
    "## Problema 1: Modelo Lineal "
   ]
  },
  {
   "cell_type": "markdown",
   "metadata": {},
   "source": [
    "### 1.- Procesamiento de los datos"
   ]
  },
  {
   "cell_type": "code",
   "execution_count": 49,
   "metadata": {},
   "outputs": [
    {
     "data": {
      "image/png": "[encoded data removed]",
      "text/plain": [
       "<Figure size 432x288 with 1 Axes>"
      ]
     },
     "metadata": {
      "needs_background": "light"
     },
     "output_type": "display_data"
    }
   ],
   "source": [
    "#Cargar datos\n",
    "data = scipy.io.loadmat('datos/data_1.mat')\n",
    "\n",
    "#Extraer valores\n",
    "x = data['x']\n",
    "y = data['y']\n",
    "\n",
    "#Imprimir valores\n",
    "plt.plot(x, y, '*', color='red');"
   ]
  },
  {
   "cell_type": "markdown",
   "metadata": {},
   "source": [
    "### 2.- Definición del modelo"
   ]
  },
  {
   "cell_type": "code",
   "execution_count": 50,
   "metadata": {},
   "outputs": [],
   "source": [
    "# Se propone un modelo lineal\n",
    "#       Y = wx + b    -->    Entrada: x , Parámetros: w, b\n",
    "# Se propone una función de error de medio cuadráticos\n",
    "#       e = 1/2 * (Ym - Yd)^2"
   ]
  },
  {
   "cell_type": "code",
   "execution_count": 51,
   "metadata": {},
   "outputs": [],
   "source": [
    "# Error medio cuadrático\n",
    "def emc(ym,yd):\n",
    "    e = 0.5*np.power(ym-yd,2)\n",
    "    return e\n",
    "\n",
    "# Crear modelo\n",
    "class recta():\n",
    "    \n",
    "    # Constructor\n",
    "    def __init__(self,w,b):\n",
    "        \n",
    "        # Inicializar parametros del modelo\n",
    "        self.w = w\n",
    "        self.b = b\n",
    "        \n",
    "        \n",
    "    # Procesamiento (foward pass)\n",
    "    def foward(self,x):\n",
    "        \n",
    "        y = self.w*x + self.b\n",
    "        return y\n",
    "    \n",
    "    # Método de entrenamiento (PROBLEMA DE OPTIMIZACIÓN)\n",
    "    def train(self,x,y,Lr,epoch):\n",
    "        \n",
    "        # Inicializar el error\n",
    "        self.e = np.zeros(epoch)\n",
    "        \n",
    "        # Ciclo épocas\n",
    "        for i in range(epoch):\n",
    "            \n",
    "            # Ciclo de los datos\n",
    "            for j in range(x.shape[1]):\n",
    "                \n",
    "                # Obtener entradas\n",
    "                x_in = x[0,j]\n",
    "                yd = y[0,j]\n",
    "                \n",
    "                # Obtener salidas\n",
    "                ym = self.w*x_in+self.b\n",
    "                \n",
    "                # Calcular las gradiantes\n",
    "                de_w = (ym-yd)*x_in\n",
    "                de_b = (ym-yd)\n",
    "                \n",
    "                # Actualizar los parámetros\n",
    "                self.w = self.w-Lr*de_w\n",
    "                self.b = self.b-Lr*de_b\n",
    "                \n",
    "                # Calcular error\n",
    "                self.e[i] = self.e[i]+emc(ym,yd)\n",
    "                \n",
    "            # Promediar error de la epoca\n",
    "            self.e[i] = self.e[i]/x.shape[1]"
   ]
  },
  {
   "cell_type": "markdown",
   "metadata": {},
   "source": [
    "### 3.- Entrenamiento del modelo"
   ]
  },
  {
   "cell_type": "code",
   "execution_count": 52,
   "metadata": {},
   "outputs": [
    {
     "data": {
      "image/png": "[encoded data removed]",
      "text/plain": [
       "<Figure size 432x288 with 1 Axes>"
      ]
     },
     "metadata": {
      "needs_background": "light"
     },
     "output_type": "display_data"
    }
   ],
   "source": [
    "# Crear instancia del modelo\n",
    "modelo = recta(-5.0,4)\n",
    "\n",
    "# Entrenar modelo\n",
    "modelo.train(x,y,0.1,50)\n",
    "\n",
    "# Imprimir error\n",
    "plt.figure(1)\n",
    "plt.plot(modelo.e,\"r\")\n",
    "plt.grid()\n",
    "plt.show()"
   ]
  },
  {
   "cell_type": "markdown",
   "metadata": {
    "tags": []
   },
   "source": [
    "### 4.- Evaluación del modelo"
   ]
  },
  {
   "cell_type": "code",
   "execution_count": 53,
   "metadata": {},
   "outputs": [
    {
     "name": "stdout",
     "output_type": "stream",
     "text": [
      "Dimension de la entrada: (1, 100)\n",
      "Error: 0.0105653338310625\n"
     ]
    },
    {
     "data": {
      "image/png": "[encoded data removed]",
      "text/plain": [
       "<Figure size 432x288 with 1 Axes>"
      ]
     },
     "metadata": {
      "needs_background": "light"
     },
     "output_type": "display_data"
    }
   ],
   "source": [
    "# Inicializar salida del modelo\n",
    "ym = np.zeros(y.shape)\n",
    "\n",
    "# Inicializar error\n",
    "e = 0.0\n",
    "\n",
    "print (\"Dimension de la entrada: \" + str(x.shape))\n",
    "\n",
    "#Evaluar modelo en datos\n",
    "for i in range(x.shape[1]):\n",
    "    \n",
    "    # Someter modelo a entrada\n",
    "    ym[0,i] = modelo.foward(x[0,i])\n",
    "    \n",
    "    # Calcular error de la entrada\n",
    "    e = e + emc(ym[0,i],y[0,i])\n",
    "    \n",
    "# Calcular error promedio\n",
    "e = e/x.shape[1]\n",
    "\n",
    "# Imprmir error\n",
    "print(\"Error: \" + str(e))\n",
    "\n",
    "# Graficar\n",
    "plt.plot(x, y, '*', color='red');\n",
    "plt.plot(x[0,:], ym[0,:], color='blue');\n",
    "plt.grid()"
   ]
  },
  {
   "cell_type": "markdown",
   "metadata": {},
   "source": [
    "### 5.- Problema de optimización"
   ]
  },
  {
   "cell_type": "code",
   "execution_count": 54,
   "metadata": {},
   "outputs": [],
   "source": [
    "# Se propone Gradiete Descendiente\n",
    "# Donde el mínimo e, es determinado por w, b\n",
    "# wo = wo -Lr(de/dw)  --> Se aplican derivadas parciales  \n",
    "# de/dYm*dYm/dw = (Ym - yd) * x\n",
    "# de/dYm*dYm/db = (Ym - yd) * 1\n"
   ]
  },
  {
   "cell_type": "markdown",
   "metadata": {},
   "source": [
    "## Problema 2: Modelo cuadrático"
   ]
  },
  {
   "cell_type": "markdown",
   "metadata": {},
   "source": [
    "### 1.- Procesamiento de los datos"
   ]
  },
  {
   "cell_type": "code",
   "execution_count": 55,
   "metadata": {},
   "outputs": [
    {
     "name": "stdout",
     "output_type": "stream",
     "text": [
      "X(100, 1)\n",
      "Y(100, 1)\n"
     ]
    },
    {
     "data": {
      "image/png": "[encoded data removed]",
      "text/plain": [
       "<Figure size 432x288 with 1 Axes>"
      ]
     },
     "metadata": {
      "needs_background": "light"
     },
     "output_type": "display_data"
    }
   ],
   "source": [
    "#Cargar datos\n",
    "data = scipy.io.loadmat('datos/data_2.mat')\n",
    "\n",
    "#Extraer valores\n",
    "x = data['x']\n",
    "y = data['y']\n",
    "\n",
    "# Transponer datos en columna\n",
    "x = np.transpose(data['x'])\n",
    "y = np.transpose(data['y'])\n",
    "\n",
    "# Imprimir dimensiones de los datos\n",
    "print(\"X\" + str(x.shape))\n",
    "print(\"Y\" + str(y.shape))\n",
    "\n",
    "# Normalizar Y\n",
    "y = (y-np.min(y))\n",
    "y = y/np.max(y)\n",
    "\n",
    "# Imprimir valores\n",
    "plt.plot(x, y, '*', color='red');"
   ]
  },
  {
   "cell_type": "markdown",
   "metadata": {},
   "source": [
    "### 2.- Definición del modelo"
   ]
  },
  {
   "cell_type": "code",
   "execution_count": 56,
   "metadata": {},
   "outputs": [],
   "source": [
    "# Se propone un modelo cuadrático\n",
    "#       Y = ax^2 + bx + c   -->    Entrada: x , Parámetros: a, b, c\n",
    "\n",
    "# Se propone una función de error de medio cuadráticos\n",
    "#       e = 1/2 * (Ym - Yd)^2\n",
    "\n",
    "# Se propone Gradiete Descendiente\n",
    "# Donde el mínimo e, es determinado por a, b, c\n",
    "# wo = wo -Lr(de/dw)  --> Se aplican derivadas parciales  \n",
    "# de/dYm = (Ym - Yd) \n",
    "# dYm/da = x^2\n",
    "# dYm/db = x\n",
    "# dYm/dc = 1"
   ]
  },
  {
   "cell_type": "code",
   "execution_count": 57,
   "metadata": {},
   "outputs": [],
   "source": [
    "class cuadratica():\n",
    "    \n",
    "    # Constructor\n",
    "    def __init__(self,a,b,c):\n",
    "        \n",
    "        # Definir atributos\n",
    "        self.a = a\n",
    "        self.b = b\n",
    "        self.c = c\n",
    "        \n",
    "    # Procesamiento hacia adelante\n",
    "    def foward(self,x):\n",
    "        \n",
    "        ym = self.a*np.power(x,2) + self.b*x + self.c\n",
    "        return ym\n",
    "    \n",
    "    # Método de entrenamiento\n",
    "    def train(self,x,y,Lr,epoch):\n",
    "        \n",
    "        # Inicializar error\n",
    "        self.e = np.zeros(epoch)\n",
    "        \n",
    "        # Lazo épocas\n",
    "        for i in range(epoch):\n",
    "            \n",
    "            # Lazo de los datos\n",
    "            for j in range(x.shape[0]):\n",
    "                \n",
    "                # Obtener datos de entrada\n",
    "                x_in = x[j,0]\n",
    "                yd = y[j,0]\n",
    "                \n",
    "                # Obtener salida del modelo \n",
    "                ym = self.a*np.power(x_in,2) + self.b*x_in + self.c\n",
    "                \n",
    "                # Gradientes de la función de error\n",
    "                de_ym = (ym-yd)\n",
    "                \n",
    "                # Gradientes del modelo\n",
    "                dym_a = np.power(x_in,2)\n",
    "                dym_b = x_in\n",
    "                dym_c = 1\n",
    "                \n",
    "                # Gradientes de variables\n",
    "                de_a = de_ym*dym_a\n",
    "                de_b = de_ym*dym_b\n",
    "                de_c = de_ym*dym_c\n",
    "    \n",
    "                # Actualizar datos\n",
    "                self.a = self.a - Lr*de_a\n",
    "                self.b = self.b - Lr*de_b\n",
    "                self.c = self.c - Lr*de_c\n",
    "                \n",
    "                # Calcular error\n",
    "                self.e[i] = self.e[i]+emc(ym,yd)\n",
    "                \n",
    "            # Promediar error de la epoca\n",
    "            self.e[i] = self.e[i]/x.shape[0]"
   ]
  },
  {
   "cell_type": "markdown",
   "metadata": {},
   "source": [
    "### 3.- Entrenamiento del modelo"
   ]
  },
  {
   "cell_type": "code",
   "execution_count": 58,
   "metadata": {},
   "outputs": [
    {
     "data": {
      "image/png": "[encoded data removed]",
      "text/plain": [
       "<Figure size 432x288 with 1 Axes>"
      ]
     },
     "metadata": {
      "needs_background": "light"
     },
     "output_type": "display_data"
    }
   ],
   "source": [
    "# Crear instancia del modelo\n",
    "curva = cuadratica(1.0,2.0,3.0)\n",
    "\n",
    "# Entrenar modelo\n",
    "curva.train(x,y,0.1,30)\n",
    "\n",
    "# Imprimir error\n",
    "plt.figure(2)\n",
    "plt.plot(curva.e,\"b\")\n",
    "plt.grid()\n",
    "plt.show()"
   ]
  },
  {
   "cell_type": "markdown",
   "metadata": {},
   "source": [
    "### 4.- Evaluación del modelo"
   ]
  },
  {
   "cell_type": "code",
   "execution_count": 59,
   "metadata": {},
   "outputs": [
    {
     "name": "stdout",
     "output_type": "stream",
     "text": [
      "Dimension de la entrada: (100, 1)\n",
      "Error: 0.0011885158419448884\n"
     ]
    },
    {
     "data": {
      "image/png": "[encoded data removed]",
      "text/plain": [
       "<Figure size 432x288 with 1 Axes>"
      ]
     },
     "metadata": {
      "needs_background": "light"
     },
     "output_type": "display_data"
    }
   ],
   "source": [
    "# Inicializar salida del modelo\n",
    "ym = np.zeros(y.shape)\n",
    "\n",
    "# Inicializar error\n",
    "e = 0.0\n",
    "\n",
    "print (\"Dimension de la entrada: \" + str(x.shape))\n",
    "\n",
    "#Evaluar modelo en datos\n",
    "for i in range(x.shape[0]):\n",
    "    \n",
    "    # Someter modelo a entrada\n",
    "    ym[i,0] = curva.foward(x[i,0])\n",
    "    \n",
    "    # Calcular error de la entrada\n",
    "    e = e + emc(ym[i,0],y[i,0])\n",
    "    \n",
    "# Calcular error promedio\n",
    "e = e/x.shape[0]\n",
    "\n",
    "# Imprmir error\n",
    "print(\"Error: \" + str(e))\n",
    "\n",
    "# Graficar\n",
    "plt.plot(x, y, '*', color='red');\n",
    "plt.plot(x[:,0], ym[:,0], color='blue');\n",
    "plt.grid()"
   ]
  },
  {
   "cell_type": "markdown",
   "metadata": {},
   "source": [
    "## Problema 3: Modelo cúbico"
   ]
  },
  {
   "cell_type": "markdown",
   "metadata": {},
   "source": [
    "### 1.- Procesamiento de los datos"
   ]
  },
  {
   "cell_type": "code",
   "execution_count": 60,
   "metadata": {},
   "outputs": [
    {
     "name": "stdout",
     "output_type": "stream",
     "text": [
      "X(100, 1)\n",
      "Y(100, 1)\n"
     ]
    },
    {
     "data": {
      "image/png": "[encoded data removed]",
      "text/plain": [
       "<Figure size 432x288 with 1 Axes>"
      ]
     },
     "metadata": {
      "needs_background": "light"
     },
     "output_type": "display_data"
    }
   ],
   "source": [
    "#Cargar datos\n",
    "data = scipy.io.loadmat('datos/data_3.mat')\n",
    "\n",
    "#Extraer valores\n",
    "x = data['x']\n",
    "y = data['y']\n",
    "\n",
    "# Transponer datos en columna\n",
    "x = np.transpose(data['x'])\n",
    "y = np.transpose(data['y'])\n",
    "\n",
    "# Imprimir dimensiones de los datos\n",
    "print(\"X\" + str(x.shape))\n",
    "print(\"Y\" + str(y.shape))\n",
    "\n",
    "# Normalizar Y\n",
    "y = (y-np.min(y))\n",
    "y = y/np.max(y)\n",
    "\n",
    "#Imprimir valores\n",
    "plt.plot(x, y, '*', color='red');"
   ]
  },
  {
   "cell_type": "markdown",
   "metadata": {},
   "source": [
    "### 2.- Definición del modelo"
   ]
  },
  {
   "cell_type": "code",
   "execution_count": 61,
   "metadata": {},
   "outputs": [],
   "source": [
    "# Se propone un modelo cúbico\n",
    "#       Y = ax^3 + bx^2 + cx + d   -->    Entrada: x , Parámetros: a, b, c, d\n",
    "\n",
    "# Se propone una función de error de medio cuadráticos\n",
    "#       e = 1/2 * (Ym - Yd)^2\n",
    "\n",
    "# Se propone problema de optimización\n",
    "# Minimizar el error ---> e_min = e(Ym,Yd) con a_min, b_min, c_min, d_min\n",
    "\n",
    "# Se propone Gradiete Descendiente\n",
    "# Donde el mínimo e, es determinado por a, b, c, d\n",
    "# wo = wo -Lr(de/dw)  --> Se aplican derivadas parciales  \n",
    "# de/dYm = (Ym - Yd) \n",
    "# dYm/da = x^3\n",
    "# dYm/db = x^2\n",
    "# dYm/dc = x\n",
    "# dYm/dd = 1"
   ]
  },
  {
   "cell_type": "code",
   "execution_count": 68,
   "metadata": {},
   "outputs": [],
   "source": [
    "class cubica():\n",
    "    \n",
    "    # Constructor\n",
    "    def __init__(self,a,b,c,d):\n",
    "        \n",
    "        # Definir atributos\n",
    "        self.a = a\n",
    "        self.b = b\n",
    "        self.c = c\n",
    "        self.d = d\n",
    "        \n",
    "    # Procesamiento hacia adelante\n",
    "    def foward(self,x):\n",
    "        \n",
    "        ym = self.a*np.power(x,3) + self.b*np.power(x,2) + self.c*x + self.d\n",
    "        return ym\n",
    "    \n",
    "    # Método de entrenamiento\n",
    "    def train(self,x,y,Lr,epoch):\n",
    "        \n",
    "        # Inicializar error\n",
    "        self.e = np.zeros(epoch)\n",
    "        \n",
    "        # Lazo épocas\n",
    "        for i in range(epoch):\n",
    "            \n",
    "            # Lazo de los datos\n",
    "            for j in range(x.shape[0]):\n",
    "                \n",
    "                # Obtener datos de entrada\n",
    "                x_in = x[j,0]\n",
    "                yd = y[j,0]\n",
    "                \n",
    "                # Obtener salida del modelo \n",
    "                ym = self.a*np.power(x_in,3) + self.b*np.power(x_in,2) + self.c*x_in + self.d\n",
    "                \n",
    "                # Gradientes de la función de error\n",
    "                de_ym = (ym-yd)\n",
    "                \n",
    "                # Gradientes del modelo\n",
    "                dym_a = np.power(x_in,3)\n",
    "                dym_b = np.power(x_in,2)\n",
    "                dym_c = x_in\n",
    "                dym_d = 1\n",
    "                \n",
    "                # Gradientes de variables\n",
    "                de_a = de_ym*dym_a\n",
    "                de_b = de_ym*dym_b\n",
    "                de_c = de_ym*dym_c\n",
    "                de_d = de_ym*dym_d\n",
    "    \n",
    "                # Actualizar datos\n",
    "                self.a = self.a - Lr*de_a\n",
    "                self.b = self.b - Lr*de_b\n",
    "                self.c = self.c - Lr*de_c\n",
    "                self.d = self.d - Lr*de_d\n",
    "                \n",
    "                # Calcular error\n",
    "                self.e[i] = self.e[i] + emc(ym,yd)\n",
    "                \n",
    "            # Promediar error de la epoca\n",
    "            self.e[i] = self.e[i]/x.shape[0]"
   ]
  },
  {
   "cell_type": "markdown",
   "metadata": {},
   "source": [
    "### 3.- Entrenamiento del modelo"
   ]
  },
  {
   "cell_type": "code",
   "execution_count": 103,
   "metadata": {},
   "outputs": [
    {
     "data": {
      "image/png": "[encoded data removed]",
      "text/plain": [
       "<Figure size 432x288 with 1 Axes>"
      ]
     },
     "metadata": {
      "needs_background": "light"
     },
     "output_type": "display_data"
    }
   ],
   "source": [
    "# Crear instancia del modelo\n",
    "cubo = cubica(5.0,4.0,3.0,2.0)\n",
    "\n",
    "# Entrenar modelo\n",
    "cubo.train(x,y,0.1,100)\n",
    "\n",
    "# Imprimir error\n",
    "plt.figure(3)\n",
    "plt.plot(cubo.e,\"b\")\n",
    "plt.grid()\n",
    "plt.show()"
   ]
  },
  {
   "cell_type": "markdown",
   "metadata": {},
   "source": [
    "### 4.- Evaluación del modelo"
   ]
  },
  {
   "cell_type": "code",
   "execution_count": 105,
   "metadata": {},
   "outputs": [
    {
     "name": "stdout",
     "output_type": "stream",
     "text": [
      "Dimension de la entrada: (100, 1)\n",
      "Parametros:  a: -0.3852238245447107 b: -1.001193156399313 c: 0.546473040256638 d: 0.8682768949267903\n",
      "Error: 0.0007736317102041164\n"
     ]
    },
    {
     "data": {
      "image/png": "[encoded data removed]",
      "text/plain": [
       "<Figure size 432x288 with 1 Axes>"
      ]
     },
     "metadata": {
      "needs_background": "light"
     },
     "output_type": "display_data"
    }
   ],
   "source": [
    "# Inicializar salida del modelo\n",
    "ym = np.zeros(y.shape)\n",
    "\n",
    "# Inicializar error\n",
    "e = 0.0\n",
    "\n",
    "print (\"Dimension de la entrada: \" + str(x.shape))\n",
    "print (\"Parametros: \" + \" a: \" + str(cubo.a) + \" b: \" + str(cubo.b) + \" c: \" + str(cubo.c) + \" d: \" + str(cubo.d))\n",
    "\n",
    "#Evaluar modelo en datos\n",
    "for i in range(x.shape[0]):\n",
    "    \n",
    "    # Someter modelo a entrada\n",
    "    ym[i,0] = cubo.foward(x[i,0])\n",
    "    \n",
    "    # Calcular error de la entrada\n",
    "    e = e + emc(ym[i,0],y[i,0])\n",
    "    \n",
    "# Calcular error promedio\n",
    "e = e/x.shape[0]\n",
    "\n",
    "# Imprmir error\n",
    "print(\"Error: \" + str(e))\n",
    "\n",
    "# Graficar\n",
    "plt.plot(x, y, '*', color='red');\n",
    "plt.plot(x[:,0], ym[:,0], color='blue');\n",
    "plt.grid()"
   ]
  }
 ],
 "metadata": {
  "kernelspec": {
   "display_name": "Python 3 (ipykernel)",
   "language": "python",
   "name": "python3"
  },
  "language_info": {
   "codemirror_mode": {
    "name": "ipython",
    "version": 3
   },
   "file_extension": ".py",
   "mimetype": "text/x-python",
   "name": "python",
   "nbconvert_exporter": "python",
   "pygments_lexer": "ipython3",
   "version": "3.8.10"
  }
 },
 "nbformat": 4,
 "nbformat_minor": 4
}
